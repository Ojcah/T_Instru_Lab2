{
 "cells": [
  {
   "cell_type": "markdown",
   "id": "9b41e4e5-611f-42f8-aed1-cec89f685dce",
   "metadata": {},
   "source": [
    "# Simulaciones Realizadas hasta el momento\n",
    "## Circuito Aislado de ganancia fija con ADC\n",
    "Se hizo la simulacion de la entrada diferencial con ganancia unitaria con un optoacoplador para poder separar electricamente las tierras. Desspues se amplifica la señal por un factor de 0.5 para poder tener una tensión máxima en la entrada de 10V y tener en la entrada del "
   ]
  },
  {
   "cell_type": "markdown",
   "id": "cb6ac1fd-0f7a-4c98-90f1-99156a0eac21",
   "metadata": {},
   "source": [
    "<p align=\"center\">\n",
    "  <img src=\"sims/images/DiseñoV1_1.JPG\" alt=\"Simulación de esquemático ver.1\" style=\"width:50%;\" />\n",
    "</p>"
   ]
  },
  {
   "cell_type": "code",
   "execution_count": null,
   "id": "7c69bf60-a1ee-48dd-a282-92d8a1b9ea52",
   "metadata": {},
   "outputs": [],
   "source": []
  },
  {
   "cell_type": "markdown",
   "id": "a6bc8e6f-b76f-4925-833f-adcec60f12a3",
   "metadata": {},
   "source": [
    "## Opcional (V2)"
   ]
  },
  {
   "cell_type": "markdown",
   "id": "24a95092-b9b7-4f73-a7c6-c3709d1755ee",
   "metadata": {},
   "source": [
    "### Esquemático"
   ]
  },
  {
   "cell_type": "markdown",
   "id": "1da51cd6-8888-488d-b872-628b083b8385",
   "metadata": {},
   "source": [
    "<p align=\"center\">\r\n",
    "  <img src=sims\"/imagesDiseñoV2_1.PNGG\" alt=Simulación de esquemático ver.2n\" style=\"width530%;\" /\n",
    "  <img src=\"sims/images/DiseñoV2_2.PNG\" alt=\"Simulación de esquemático ver.2_1\" style=\"width:50%;\" />\n",
    "</p>p>"
   ]
  }
 ],
 "metadata": {
  "kernelspec": {
   "display_name": "Python 3 (ipykernel)",
   "language": "python",
   "name": "python3"
  },
  "language_info": {
   "codemirror_mode": {
    "name": "ipython",
    "version": 3
   },
   "file_extension": ".py",
   "mimetype": "text/x-python",
   "name": "python",
   "nbconvert_exporter": "python",
   "pygments_lexer": "ipython3",
   "version": "3.8.16"
  }
 },
 "nbformat": 4,
 "nbformat_minor": 5
}
