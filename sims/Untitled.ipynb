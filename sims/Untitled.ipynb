{
 "cells": [
  {
   "cell_type": "markdown",
   "id": "9b41e4e5-611f-42f8-aed1-cec89f685dce",
   "metadata": {},
   "source": [
    "# Simulaciones Realizadas hasta el momento\n",
    "## Circuito Aislado de ganancia fija con ADC\n",
    "Se hizo la simulacion de la entrada diferencial con ganancia unitaria con un optoacoplador para poder separar electricamente las tierras. Desspues se amplifica la señal por un factor de 0.5 para poder tener una tensión máxima en la entrada de 10V y tener en la entrada del "
   ]
  },
  {
   "cell_type": "raw",
   "id": "c2c0bb2a-81a6-4770-8933-8dbd0c0e5d36",
   "metadata": {},
   "source": []
  }
 ],
 "metadata": {
  "kernelspec": {
   "display_name": "Python 3 (ipykernel)",
   "language": "python",
   "name": "python3"
  },
  "language_info": {
   "codemirror_mode": {
    "name": "ipython",
    "version": 3
   },
   "file_extension": ".py",
   "mimetype": "text/x-python",
   "name": "python",
   "nbconvert_exporter": "python",
   "pygments_lexer": "ipython3",
   "version": "3.11.4"
  }
 },
 "nbformat": 4,
 "nbformat_minor": 5
}
