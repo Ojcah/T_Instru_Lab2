{
 "cells": [
  {
   "cell_type": "markdown",
   "metadata": {
    "id": "9zQ1gk9kQoZR"
   },
   "source": [
    "# Diseño de Un Sistema de Adquisición de Datos"
   ]
  },
  {
   "cell_type": "markdown",
   "metadata": {
    "id": "-1jIIIoCI2Bc"
   },
   "source": [
    "## Diseño:\n",
    "### Ganancia de Entrada\n",
    "Se hicieron simulaciones de los dos bloques principales del circuito. El primer bloque es la ganancia de entrada. Se seleccionaron 5 ganancias para el circuito para asi tener 5 distintas escalas para las tensiones medidas. De igual manera se tiene una entrada diferencial, esto con el fin de poder medir tensiones en distintos lugares del circuito sin preocuparse por problemas como la referencia a tierra. Se tiene una fuente de tensión de 12 V para alimentar a los amplificadores opercionales.\n",
    "\n",
    "### Aislamiento de tierras\n",
    "Para aislar eléctricamente las tierras del circuito se hizo uso de un optoacoplador 4N35. Mediante una configuración especifica se logró aislar las tierras de las mediciones, con las tierras conectadas al ADC y tener las tierras de los canales separadas."
   ]
  },
  {
   "cell_type": "markdown",
   "metadata": {
    "id": "L-ugw_8eNdbg"
   },
   "source": [
    "## Análisis de Resultados:\n",
    "### Circuito de Aislamiento:\n",
    "#### Simulaciones:\n",
    "El circuito de aislamiento es el siguiente.\n",
    "\n",
    "![Circuito Aislador](/results/images/CircuitIsolation.png)\n",
    "\n",
    "Para este circuito se hace uso de la configuración no inversora y de comportamiento lineal. Esto se hace teniendo una ganancia baja y trabajando en la region lineal. Se puede ver la grafica de salida del circuito con respecto a la entrada en la siguiente figura.  \n",
    "\n",
    "![Respuesta Lineal del Circuito Aislador](/results/images/OptoLineal.png)\n",
    "\n",
    "Como se observa, el comportamiento de la salida es lineal con respecto a la tensión de entrada. Se tuvo que agregar una ganancia en la salida para poder mantener los valores en un rango de 0.5 V a 5 V.\n",
    "\n",
    "#### Resultados Experimentales:\n",
    "Para la grafica de tensión vs tensión en el circuito aislador con el optoacoplador despues de armar el circuito se obtuvieron los siguientes valores.\n",
    "\n",
    "![Resultados Experimentales de la Respuesta del Circuito Aislador](/results/images/OptoLinealExperimental.png)\n",
    "\n",
    "Se puede observar como los valores de entrada menores a 3 V, provocan una tensión de salida mayor de la simulada. Esto es importante notar ya que para la parte experimental se puede bajar la ganancia de salida para poder obtener una respuesta mas cercana a la simulada siempre con los datos experimentales en cuenta."
   ]
  },
  {
   "cell_type": "code",
   "execution_count": null,
   "metadata": {},
   "outputs": [],
   "source": []
  }
 ],
 "metadata": {
  "colab": {
   "provenance": []
  },
  "kernelspec": {
   "display_name": "Python 3 (ipykernel)",
   "language": "python",
   "name": "python3"
  },
  "language_info": {
   "codemirror_mode": {
    "name": "ipython",
    "version": 3
   },
   "file_extension": ".py",
   "mimetype": "text/x-python",
   "name": "python",
   "nbconvert_exporter": "python",
   "pygments_lexer": "ipython3",
   "version": "3.11.4"
  }
 },
 "nbformat": 4,
 "nbformat_minor": 4
}
