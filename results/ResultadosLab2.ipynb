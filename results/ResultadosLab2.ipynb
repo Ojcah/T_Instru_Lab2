{
 "cells": [
  {
   "cell_type": "markdown",
   "metadata": {
    "id": "9zQ1gk9kQoZR"
   },
   "source": [
    "# Diseño de Un Sistema de Adquisición de Datos"
   ]
  },
  {
   "cell_type": "markdown",
   "metadata": {
    "id": "-1jIIIoCI2Bc"
   },
   "source": [
    "## Diseño:\n",
    "### Ganancia de Entrada\n",
    "Se hicieron simulaciones de los dos bloques principales del circuito. El primer bloque es la ganancia de entrada. Se seleccionaron 5 ganancias para el circuito para asi tener 5 distintas escalas para las tensiones medidas. De igual manera se tiene una entrada diferencial, esto con el fin de poder medir tensiones en distintos lugares del circuito sin preocuparse por problemas como la referencia a tierra. Se tiene una fuente de tensión de 12 V para alimentar a los amplificadores operacionales.\n",
    "\n",
    "### Aislamiento de tierras\n",
    "Para aislar eléctricamente las tierras del circuito se hizo uso de un optoacoplador 4N35. Mediante una configuración especifica se logró aislar las tierras de las mediciones, con las tierras conectadas al ADC y tener las tierras de los canales separadas."
   ]
  },
  {
   "cell_type": "markdown",
   "metadata": {
    "id": "L-ugw_8eNdbg"
   },
   "source": [
    "## Análisis de Resultados:\n",
    "### Circuito de Aislamiento:\n",
    "#### Simulaciones:\n",
    "El circuito de aislamiento es el siguiente.\n",
    "\n",
    "<center>\n",
    "<img src=\"./images/CircuitIsolation.jpg\" alt=\"Circuito Aislador\" style=\"width:70%;\" />\n",
    "</center>\n",
    "\n",
    "Para este circuito se hace uso de la configuración no inversora y de comportamiento lineal. Esto se hace teniendo una ganancia baja y trabajando en la region lineal. Se puede ver la grafica de salida del circuito con respecto a la entrada en la siguiente figura.  \n",
    "\n",
    "<center>\n",
    "<img src=\"./images/OptoLineal.png\" alt=\"Respuesta Lineal del Circuito Aislador\" style=\"width:70%;\" />\n",
    "</center>\n",
    "\n",
    "Como se observa, el comportamiento de la salida es lineal con respecto a la tensión de entrada. Se tuvo que agregar una ganancia en la salida para poder mantener los valores en un rango de 0.5 V a 5 V, junto con un offset de 2 V para poder operar en la region lineal.\n",
    "\n",
    "#### Resultados Experimentales:\n",
    "Para la grafica de tensión vs tensión en el circuito aislador con el optoacoplador despues de armar el circuito se obtuvieron los siguientes valores.\n",
    "\n",
    "<center>\n",
    "<img src=\"./images/OptoLinealExperimental.png\" alt=\"Resultados Experimentales de la Respuesta del Circuito Aislador\" style=\"width:70%;\" />\n",
    "</center>\n",
    "Se puede observar como los valores de entrada menores a 3 V, provocan una tensión de salida mayor de la simulada. Esto es importante notar ya que para la parte experimental se puede bajar la ganancia de salida para poder obtener una respuesta mas cercana a la simulada siempre con los datos experimentales en cuenta."
   ]
  },
  {
   "cell_type": "markdown",
   "metadata": {},
   "source": [
    "### Circuito de Ganancia/Atenuación:\n",
    "#### Simulación:\n",
    "Se implementó mediante la topología conocida para amplificador diferencial, el cual se controla mediante la fórmula matemática:\n",
    "$$\n",
    "V_o = (V_2 - V_1)\\cdot \\dfrac{R_2}{R_1}\n",
    "$$\n",
    "<center>\n",
    "<img src=\"./images/AmpDif.png\" alt=\"Circuito amplificador/atenuador\" style=\"width:70%;\" />\n",
    "</center>\n",
    "\n",
    "Así se definieron combinaciones determinadas de resistencias para obtener ganancias y atenuaciones que permitieran manejar entradas de la señal entre $10mV$ y $10V$, de manera que se le permitiera a la señal mantenerse entre $0 V$ y $5 V$, rango correspondiente a la entrada del ADC a utilizar, en este caso, el ADC incorporado en el Arduino UNO. \n",
    "La simulación y el circuito experimental correspondientes se muestra en las siguientes figuras.\n",
    "\n",
    "<center>\n",
    "<img src=\"./images/AmpDif_sim.jpeg\" alt=\"Circuito amplificador/atenuador simulado\" style=\"width:70%;\" />\n",
    "</center>\n",
    "\n",
    "#### Resultados Experimentales:\n",
    "Se armó el circuito como se muestra en la siguiente figura:\n",
    "<center>\n",
    "<img src=\"./images/AmpDif_exp.jpg\" alt=\"Circuito amplificador/atenuador experimental\" style=\"width:70%;\" />\n",
    "</center>\n",
    "\n",
    "Se hicieron pruebas del circuito para conocer su funcionamiento y asi saber si las gannacias estaban correctas. Se realizó la prueba con una Escala de 10V donde se usa una fuente regulada como entrada y se mide la tensión de salida del circuito con el multimetro. Los resultados se muestran en la siguiente figura.\n",
    "\n",
    "<center>\n",
    "<img src=\"./images/Escala10VExp.png\" alt=\"Tensión de Entrada vs Tensión de Salida para escala de 10V\" style=\"width:70%;\" />\n",
    "</center>\n",
    "\n",
    "\n",
    "##### Combinaciones de las Escalas Deseadas:\n",
    "\n",
    "<center>\n",
    "\n",
    "| R_2 | R_1 | Ganancia/Atenuación | Escala Deseada |\n",
    "|:------------:|:------------:|:------------:|:------------:|\n",
    "| $100 \\Omega$    | $200 \\Omega$    | $0.5$    | 10 V |\n",
    "| $200 \\Omega$    | $200 \\Omega$    | $1$    | 5 V |\n",
    "| $500 \\Omega$    | $200 \\Omega$    | $2.5$    | 2 V |\n",
    "| $1 k\\Omega$    | $200 \\Omega$    | $5$    | 1 V |\n",
    "| $100 k\\Omega$    | $200 \\Omega$    | $500$    | 10 mV |\n",
    "\n",
    "</center>\n",
    "\n"
   ]
  },
  {
   "cell_type": "markdown",
   "metadata": {},
   "source": [
    "\n",
    "\n",
    "#### Montaje del circuito\n",
    "\n",
    "<center>\n",
    "<img src=\"./images/CircuitoC1.jpeg\" alt=\"Circuito para adquisición de datos 1\" style=\"width:50%;\" />\n",
    "</center>\n",
    "\n",
    "<center>\n",
    "<img src=\"./images/CircuitoC2.jpeg\" alt=\"Circuito para adquisición de datos 2\" style=\"width:50%;\" />\n",
    "</center>\n"
   ]
  },
  {
   "cell_type": "markdown",
   "metadata": {},
   "source": [
    "### Ejecución experimental del circuito\n",
    "\n",
    "Antes de emplear las termocuplas correspondientes como entradas al circuito, se empleó una fuente de voltaje DC variable como entrada para verificar que la relación voltaje de entrada y voltaje de salida correspondiera a lo esperado en las simulaciones.\n",
    "A continuación se muestra un video donde empleando las resistencias de 100 kOhm para el circuito de ganancia variable y variando la fuente de entrada desde 1 V hasta 5 V aproximadamente, el circuito funciona correctamente. "
   ]
  },
  {
   "cell_type": "code",
   "execution_count": 5,
   "metadata": {},
   "outputs": [
    {
     "data": {
      "text/html": [
       "\n",
       "<video width=\"640\" height=\"360\" controls>\n",
       "  <source src=\"./images/Prueba_circuito_completo.mp4\" type=\"video/mp4\">\n",
       "  Tu navegador no soporta el video.\n",
       "</video>\n"
      ],
      "text/plain": [
       "<IPython.core.display.HTML object>"
      ]
     },
     "metadata": {},
     "output_type": "display_data"
    }
   ],
   "source": [
    "from IPython.display import HTML\n",
    "\n",
    "video_path1 = './images/Prueba_circuito_completo.mp4'\n",
    "video_html = f\"\"\"\n",
    "<video width=\"640\" height=\"360\" controls>\n",
    "  <source src=\"{video_path1}\" type=\"video/mp4\">\n",
    "  Tu navegador no soporta el video.\n",
    "</video>\n",
    "\"\"\"\n",
    "display(HTML(video_html))\n"
   ]
  },
  {
   "cell_type": "markdown",
   "metadata": {},
   "source": [
    "Ya al haber verificado que este circuito funcionaba correctamente, se realizó la implementación de las termocuplas donde se le aumentó la temperatura de estas empleando un cautín.\n",
    "En el siguiente video se puede comprobar cómo al calentarlas, el voltaje de salida ya con las tierras aisladas eléctricamente y con su ganancia correspondiente comienza a aumentar y al distancias el cautín de la termocupla, este voltaje disminuye considerablemente."
   ]
  },
  {
   "cell_type": "code",
   "execution_count": 2,
   "metadata": {},
   "outputs": [
    {
     "data": {
      "text/html": [
       "\n",
       "<video width=\"640\" height=\"360\" controls>\n",
       "  <source src=\"./images/circuito_completo_termocupla.mp4\" type=\"video/mp4\">\n",
       "  Tu navegador no soporta el video.\n",
       "</video>\n"
      ],
      "text/plain": [
       "<IPython.core.display.HTML object>"
      ]
     },
     "metadata": {},
     "output_type": "display_data"
    }
   ],
   "source": [
    "video_path1 = './images/circuito_completo_termocupla.mp4'\n",
    "video_html = f\"\"\"\n",
    "<video width=\"640\" height=\"360\" controls>\n",
    "  <source src=\"{video_path1}\" type=\"video/mp4\">\n",
    "  Tu navegador no soporta el video.\n",
    "</video>\n",
    "\"\"\"\n",
    "display(HTML(video_html))"
   ]
  },
  {
   "cell_type": "code",
   "execution_count": null,
   "metadata": {},
   "outputs": [],
   "source": []
  }
 ],
 "metadata": {
  "colab": {
   "provenance": []
  },
  "kernelspec": {
   "display_name": "Python 3 (ipykernel)",
   "language": "python",
   "name": "python3"
  },
  "language_info": {
   "codemirror_mode": {
    "name": "ipython",
    "version": 3
   },
   "file_extension": ".py",
   "mimetype": "text/x-python",
   "name": "python",
   "nbconvert_exporter": "python",
   "pygments_lexer": "ipython3",
   "version": "3.11.4"
  }
 },
 "nbformat": 4,
 "nbformat_minor": 4
}
